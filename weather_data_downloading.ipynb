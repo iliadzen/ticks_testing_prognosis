{
 "cells": [
  {
   "cell_type": "code",
   "execution_count": 1,
   "metadata": {},
   "outputs": [],
   "source": [
    "import os\n",
    "import numpy as np\n",
    "import pandas as pd\n",
    "from wwo_hist import retrieve_hist_data\n",
    "\n",
    "from credentials import API_KEY\n",
    "from regions import REGIONS"
   ]
  },
  {
   "cell_type": "code",
   "execution_count": 2,
   "metadata": {},
   "outputs": [],
   "source": [
    "data = pd.read_csv('data/invitro.csv')"
   ]
  },
  {
   "cell_type": "code",
   "execution_count": 3,
   "metadata": {},
   "outputs": [
    {
     "data": {
      "text/plain": [
       "array(['Челябинская обл ', 'Москва', 'Новосибирская обл',\n",
       "       'Московская область', 'Липецкая обл', 'Свердловская обл',\n",
       "       'Владимирская обл', 'Калининградская обл', 'Курская обл',\n",
       "       'Смоленская обл', 'Красноярский край', 'Северная Осетия Респ',\n",
       "       'Тульская обл', 'Ярославская обл', 'Калужская обл',\n",
       "       'Орловская обл', 'Ростовская обл', 'Ставропольский край',\n",
       "       'Оренбургская обл', 'Рязанская обл', 'Костромская обл',\n",
       "       'Самарская обл', 'Нижегородская обл', 'Хакасия Респ',\n",
       "       'Саратовская обл', 'Курганская обл', 'Ульяновская обл',\n",
       "       'Тюменская обл ', 'Белгородская обл', 'Воронежская обл',\n",
       "       'Брянская обл', 'Ханты-Мансийский АО', 'Ивановская обл',\n",
       "       'Пензенская обл', 'Чувашская Респ', 'Тамбовская обл', 'Коми Респ',\n",
       "       'Кемеровская обл', 'Татарстан Респ', 'Томская обл',\n",
       "       'Краснодарский край', 'Башкортостан Респ', 'Хабаровский край',\n",
       "       'Алтайский край', 'Тыва Респ', 'Забайкальский край',\n",
       "       'Удмуртская Респ', 'Волгоградская обл', 'Тверская обл',\n",
       "       'Астраханская обл', 'Крым Респ', 'Мордовия Респ',\n",
       "       'Кабардино-Балкарская Респ', 'Ямало-Ненецкий АО', 'Омская обл',\n",
       "       'Приморский край', 'Адыгея Респ', 'Дагестан Респ', 'Севастополь',\n",
       "       'Иркутская обл', 'Санкт-Петербург', 'Алтай Респ', 'Пермский край',\n",
       "       'Еврейская АО', 'Кировская обл', 'Сахалинская обл',\n",
       "       'Чеченская Респ'], dtype=object)"
      ]
     },
     "execution_count": 3,
     "metadata": {},
     "output_type": "execute_result"
    }
   ],
   "source": [
    "data.region.unique()"
   ]
  },
  {
   "cell_type": "markdown",
   "metadata": {},
   "source": [
    "### Getting weather data from https://www.worldweatheronline.com/"
   ]
  },
  {
   "cell_type": "code",
   "execution_count": 4,
   "metadata": {},
   "outputs": [],
   "source": [
    "frequency = 24 #hours, day average\n",
    "start_date = '13-FEB-2019'\n",
    "end_date = '08-JUN-2021'"
   ]
  },
  {
   "cell_type": "code",
   "execution_count": 8,
   "metadata": {},
   "outputs": [],
   "source": [
    "os.makedirs('data/weather', exist_ok=True)\n",
    "os.chdir('data/weather')"
   ]
  },
  {
   "cell_type": "code",
   "execution_count": 22,
   "metadata": {
    "scrolled": true
   },
   "outputs": [
    {
     "name": "stdout",
     "output_type": "stream",
     "text": [
      "\n",
      "\n",
      "Retrieving weather data for yuzhno-sakhalinsk\n",
      "\n",
      "\n",
      "Currently retrieving data for yuzhno-sakhalinsk: from 2019-02-13 to 2019-02-28\n",
      "Time elapsed (hh:mm:ss.ms) 0:00:00.607904\n",
      "Currently retrieving data for yuzhno-sakhalinsk: from 2019-03-01 to 2019-03-31\n",
      "Time elapsed (hh:mm:ss.ms) 0:00:01.353949\n",
      "Currently retrieving data for yuzhno-sakhalinsk: from 2019-04-01 to 2019-04-30\n",
      "Time elapsed (hh:mm:ss.ms) 0:00:02.177630\n",
      "Currently retrieving data for yuzhno-sakhalinsk: from 2019-05-01 to 2019-05-31\n",
      "Time elapsed (hh:mm:ss.ms) 0:00:02.917849\n",
      "Currently retrieving data for yuzhno-sakhalinsk: from 2019-06-01 to 2019-06-30\n",
      "Time elapsed (hh:mm:ss.ms) 0:00:03.621758\n",
      "Currently retrieving data for yuzhno-sakhalinsk: from 2019-07-01 to 2019-07-31\n",
      "Time elapsed (hh:mm:ss.ms) 0:00:04.399694\n",
      "Currently retrieving data for yuzhno-sakhalinsk: from 2019-08-01 to 2019-08-31\n",
      "Time elapsed (hh:mm:ss.ms) 0:00:05.163339\n",
      "Currently retrieving data for yuzhno-sakhalinsk: from 2019-09-01 to 2019-09-30\n",
      "Time elapsed (hh:mm:ss.ms) 0:00:05.883694\n",
      "Currently retrieving data for yuzhno-sakhalinsk: from 2019-10-01 to 2019-10-31\n",
      "Time elapsed (hh:mm:ss.ms) 0:00:06.635860\n",
      "Currently retrieving data for yuzhno-sakhalinsk: from 2019-11-01 to 2019-11-30\n",
      "Time elapsed (hh:mm:ss.ms) 0:00:07.357114\n",
      "Currently retrieving data for yuzhno-sakhalinsk: from 2019-12-01 to 2019-12-31\n",
      "Time elapsed (hh:mm:ss.ms) 0:00:08.100532\n",
      "Currently retrieving data for yuzhno-sakhalinsk: from 2020-01-01 to 2020-01-31\n",
      "Time elapsed (hh:mm:ss.ms) 0:00:09.598577\n",
      "Currently retrieving data for yuzhno-sakhalinsk: from 2020-02-01 to 2020-02-29\n",
      "Time elapsed (hh:mm:ss.ms) 0:00:10.430760\n",
      "Currently retrieving data for yuzhno-sakhalinsk: from 2020-03-01 to 2020-03-31\n",
      "Time elapsed (hh:mm:ss.ms) 0:00:11.193752\n",
      "Currently retrieving data for yuzhno-sakhalinsk: from 2020-04-01 to 2020-04-30\n",
      "Time elapsed (hh:mm:ss.ms) 0:00:11.900764\n",
      "Currently retrieving data for yuzhno-sakhalinsk: from 2020-05-01 to 2020-05-31\n",
      "Time elapsed (hh:mm:ss.ms) 0:00:12.716379\n",
      "Currently retrieving data for yuzhno-sakhalinsk: from 2020-06-01 to 2020-06-30\n",
      "Time elapsed (hh:mm:ss.ms) 0:00:13.501922\n",
      "Currently retrieving data for yuzhno-sakhalinsk: from 2020-07-01 to 2020-07-31\n",
      "Time elapsed (hh:mm:ss.ms) 0:00:14.210772\n",
      "Currently retrieving data for yuzhno-sakhalinsk: from 2020-08-01 to 2020-08-31\n",
      "Time elapsed (hh:mm:ss.ms) 0:00:15.040034\n",
      "Currently retrieving data for yuzhno-sakhalinsk: from 2020-09-01 to 2020-09-30\n",
      "Time elapsed (hh:mm:ss.ms) 0:00:15.794496\n",
      "Currently retrieving data for yuzhno-sakhalinsk: from 2020-10-01 to 2020-10-31\n",
      "Time elapsed (hh:mm:ss.ms) 0:00:16.509186\n",
      "Currently retrieving data for yuzhno-sakhalinsk: from 2020-11-01 to 2020-11-30\n",
      "Time elapsed (hh:mm:ss.ms) 0:00:17.224576\n",
      "Currently retrieving data for yuzhno-sakhalinsk: from 2020-12-01 to 2020-12-31\n",
      "Time elapsed (hh:mm:ss.ms) 0:00:18.051595\n",
      "Currently retrieving data for yuzhno-sakhalinsk: from 2021-01-01 to 2021-01-31\n",
      "Time elapsed (hh:mm:ss.ms) 0:00:18.793638\n",
      "Currently retrieving data for yuzhno-sakhalinsk: from 2021-02-01 to 2021-02-28\n",
      "Time elapsed (hh:mm:ss.ms) 0:00:19.485499\n",
      "Currently retrieving data for yuzhno-sakhalinsk: from 2021-03-01 to 2021-03-31\n",
      "Time elapsed (hh:mm:ss.ms) 0:00:20.199408\n",
      "Currently retrieving data for yuzhno-sakhalinsk: from 2021-04-01 to 2021-04-30\n",
      "Time elapsed (hh:mm:ss.ms) 0:00:21.000181\n",
      "Currently retrieving data for yuzhno-sakhalinsk: from 2021-05-01 to 2021-05-31\n",
      "Time elapsed (hh:mm:ss.ms) 0:00:21.701706\n",
      "Currently retrieving data for yuzhno-sakhalinsk: from 2021-06-01 to 2021-06-08\n",
      "Time elapsed (hh:mm:ss.ms) 0:00:22.031760\n",
      "\n",
      "\n",
      "export yuzhno-sakhalinsk completed!\n",
      "\n",
      "\n",
      "\n",
      "\n",
      "Retrieving weather data for grozny\n",
      "\n",
      "\n",
      "Currently retrieving data for grozny: from 2019-02-13 to 2019-02-28\n",
      "Time elapsed (hh:mm:ss.ms) 0:00:00.693570\n",
      "Currently retrieving data for grozny: from 2019-03-01 to 2019-03-31\n",
      "Time elapsed (hh:mm:ss.ms) 0:00:01.458146\n",
      "Currently retrieving data for grozny: from 2019-04-01 to 2019-04-30\n",
      "Time elapsed (hh:mm:ss.ms) 0:00:02.177586\n",
      "Currently retrieving data for grozny: from 2019-05-01 to 2019-05-31\n",
      "Time elapsed (hh:mm:ss.ms) 0:00:03.194224\n",
      "Currently retrieving data for grozny: from 2019-06-01 to 2019-06-30\n",
      "Time elapsed (hh:mm:ss.ms) 0:00:04.058924\n",
      "Currently retrieving data for grozny: from 2019-07-01 to 2019-07-31\n",
      "Time elapsed (hh:mm:ss.ms) 0:00:04.770358\n",
      "Currently retrieving data for grozny: from 2019-08-01 to 2019-08-31\n",
      "Time elapsed (hh:mm:ss.ms) 0:00:05.817498\n",
      "Currently retrieving data for grozny: from 2019-09-01 to 2019-09-30\n",
      "Time elapsed (hh:mm:ss.ms) 0:00:06.536722\n",
      "Currently retrieving data for grozny: from 2019-10-01 to 2019-10-31\n",
      "Time elapsed (hh:mm:ss.ms) 0:00:07.285191\n",
      "Currently retrieving data for grozny: from 2019-11-01 to 2019-11-30\n",
      "Time elapsed (hh:mm:ss.ms) 0:00:08.002883\n",
      "Currently retrieving data for grozny: from 2019-12-01 to 2019-12-31\n",
      "Time elapsed (hh:mm:ss.ms) 0:00:08.691698\n",
      "Currently retrieving data for grozny: from 2020-01-01 to 2020-01-31\n",
      "Time elapsed (hh:mm:ss.ms) 0:00:09.399347\n",
      "Currently retrieving data for grozny: from 2020-02-01 to 2020-02-29\n",
      "Time elapsed (hh:mm:ss.ms) 0:00:10.440564\n",
      "Currently retrieving data for grozny: from 2020-03-01 to 2020-03-31\n",
      "Time elapsed (hh:mm:ss.ms) 0:00:11.181075\n",
      "Currently retrieving data for grozny: from 2020-04-01 to 2020-04-30\n",
      "Time elapsed (hh:mm:ss.ms) 0:00:11.984343\n",
      "Currently retrieving data for grozny: from 2020-05-01 to 2020-05-31\n",
      "Time elapsed (hh:mm:ss.ms) 0:00:12.719961\n",
      "Currently retrieving data for grozny: from 2020-06-01 to 2020-06-30\n",
      "Time elapsed (hh:mm:ss.ms) 0:00:13.426525\n",
      "Currently retrieving data for grozny: from 2020-07-01 to 2020-07-31\n",
      "Time elapsed (hh:mm:ss.ms) 0:00:14.215859\n",
      "Currently retrieving data for grozny: from 2020-08-01 to 2020-08-31\n",
      "Time elapsed (hh:mm:ss.ms) 0:00:14.945715\n",
      "Currently retrieving data for grozny: from 2020-09-01 to 2020-09-30\n",
      "Time elapsed (hh:mm:ss.ms) 0:00:15.822489\n",
      "Currently retrieving data for grozny: from 2020-10-01 to 2020-10-31\n",
      "Time elapsed (hh:mm:ss.ms) 0:00:16.611214\n",
      "Currently retrieving data for grozny: from 2020-11-01 to 2020-11-30\n",
      "Time elapsed (hh:mm:ss.ms) 0:00:17.285038\n",
      "Currently retrieving data for grozny: from 2020-12-01 to 2020-12-31\n",
      "Time elapsed (hh:mm:ss.ms) 0:00:18.071577\n",
      "Currently retrieving data for grozny: from 2021-01-01 to 2021-01-31\n",
      "Time elapsed (hh:mm:ss.ms) 0:00:18.782087\n",
      "Currently retrieving data for grozny: from 2021-02-01 to 2021-02-28\n",
      "Time elapsed (hh:mm:ss.ms) 0:00:19.497906\n",
      "Currently retrieving data for grozny: from 2021-03-01 to 2021-03-31\n",
      "Time elapsed (hh:mm:ss.ms) 0:00:20.196865\n",
      "Currently retrieving data for grozny: from 2021-04-01 to 2021-04-30\n",
      "Time elapsed (hh:mm:ss.ms) 0:00:21.035024\n",
      "Currently retrieving data for grozny: from 2021-05-01 to 2021-05-31\n",
      "Time elapsed (hh:mm:ss.ms) 0:00:21.745756\n",
      "Currently retrieving data for grozny: from 2021-06-01 to 2021-06-08\n",
      "Time elapsed (hh:mm:ss.ms) 0:00:22.119556\n",
      "\n",
      "\n",
      "export grozny completed!\n",
      "\n",
      "\n"
     ]
    }
   ],
   "source": [
    "weather_data = retrieve_hist_data(API_KEY,\n",
    "                                  list(REGIONS.values()),\n",
    "                                  start_date,\n",
    "                                  end_date,\n",
    "                                  frequency,\n",
    "                                  location_label = False,\n",
    "                                  export_csv = True,\n",
    "                                  store_df = True)"
   ]
  },
  {
   "cell_type": "code",
   "execution_count": null,
   "metadata": {},
   "outputs": [],
   "source": []
  }
 ],
 "metadata": {
  "kernelspec": {
   "display_name": "Python 3",
   "language": "python",
   "name": "python3"
  },
  "language_info": {
   "codemirror_mode": {
    "name": "ipython",
    "version": 3
   },
   "file_extension": ".py",
   "mimetype": "text/x-python",
   "name": "python",
   "nbconvert_exporter": "python",
   "pygments_lexer": "ipython3",
   "version": "3.8.8"
  }
 },
 "nbformat": 4,
 "nbformat_minor": 4
}
